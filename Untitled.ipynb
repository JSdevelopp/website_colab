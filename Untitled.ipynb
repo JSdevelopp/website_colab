{
 "cells": [
  {
   "cell_type": "code",
   "execution_count": 4,
   "id": "07a77149",
   "metadata": {},
   "outputs": [],
   "source": [
    "x = 1"
   ]
  },
  {
   "cell_type": "code",
   "execution_count": 11,
   "id": "f41b7c7f",
   "metadata": {},
   "outputs": [],
   "source": [
    "x = x + 1"
   ]
  },
  {
   "cell_type": "code",
   "execution_count": 12,
   "id": "760a26fc",
   "metadata": {},
   "outputs": [
    {
     "data": {
      "text/plain": [
       "5"
      ]
     },
     "execution_count": 12,
     "metadata": {},
     "output_type": "execute_result"
    }
   ],
   "source": [
    "x"
   ]
  },
  {
   "cell_type": "code",
   "execution_count": 3,
   "id": "808a1ef5",
   "metadata": {},
   "outputs": [],
   "source": [
    "from flask_wtf import FlaskForm\n",
    "from wtforms import StringField, PasswordField, SubmitField, SelectField, IntegerField\n",
    "from wtforms.validators import DataRequired, Email, EqualTo\n",
    "from wtforms import ValidationError\n",
    "from wtforms.validators import NumberRange, Email\n",
    "import inspect"
   ]
  },
  {
   "cell_type": "code",
   "execution_count": 5,
   "id": "313198e9",
   "metadata": {},
   "outputs": [
    {
     "name": "stdout",
     "output_type": "stream",
     "text": [
      "class FlaskForm(Form):\n",
      "    \"\"\"Flask-specific subclass of WTForms :class:`~wtforms.form.Form`.\n",
      "\n",
      "    If ``formdata`` is not specified, this will use :attr:`flask.request.form`\n",
      "    and :attr:`flask.request.files`.  Explicitly pass ``formdata=None`` to\n",
      "    prevent this.\n",
      "    \"\"\"\n",
      "\n",
      "    class Meta(DefaultMeta):\n",
      "        csrf_class = _FlaskFormCSRF\n",
      "        csrf_context = session  # not used, provided for custom csrf_class\n",
      "\n",
      "        @cached_property\n",
      "        def csrf(self):\n",
      "            return current_app.config.get(\"WTF_CSRF_ENABLED\", True)\n",
      "\n",
      "        @cached_property\n",
      "        def csrf_secret(self):\n",
      "            return current_app.config.get(\"WTF_CSRF_SECRET_KEY\", current_app.secret_key)\n",
      "\n",
      "        @cached_property\n",
      "        def csrf_field_name(self):\n",
      "            return current_app.config.get(\"WTF_CSRF_FIELD_NAME\", \"csrf_token\")\n",
      "\n",
      "        @cached_property\n",
      "        def csrf_time_limit(self):\n",
      "            return current_app.config.get(\"WTF_CSRF_TIME_LIMIT\", 3600)\n",
      "\n",
      "        def wrap_formdata(self, form, formdata):\n",
      "            if formdata is _Auto:\n",
      "                if _is_submitted():\n",
      "                    if request.files:\n",
      "                        return CombinedMultiDict((request.files, request.form))\n",
      "                    elif request.form:\n",
      "                        return request.form\n",
      "                    elif request.is_json:\n",
      "                        return ImmutableMultiDict(request.get_json())\n",
      "\n",
      "                return None\n",
      "\n",
      "            return formdata\n",
      "\n",
      "        def get_translations(self, form):\n",
      "            if not current_app.config.get(\"WTF_I18N_ENABLED\", True):\n",
      "                return super().get_translations(form)\n",
      "\n",
      "            return translations\n",
      "\n",
      "    def __init__(self, formdata=_Auto, **kwargs):\n",
      "        super().__init__(formdata=formdata, **kwargs)\n",
      "\n",
      "    def is_submitted(self):\n",
      "        \"\"\"Consider the form submitted if there is an active request and\n",
      "        the method is ``POST``, ``PUT``, ``PATCH``, or ``DELETE``.\n",
      "        \"\"\"\n",
      "\n",
      "        return _is_submitted()\n",
      "\n",
      "    def validate_on_submit(self, extra_validators=None):\n",
      "        \"\"\"Call :meth:`validate` only if the form is submitted.\n",
      "        This is a shortcut for ``form.is_submitted() and form.validate()``.\n",
      "        \"\"\"\n",
      "        return self.is_submitted() and self.validate(extra_validators=extra_validators)\n",
      "\n",
      "    def hidden_tag(self, *fields):\n",
      "        \"\"\"Render the form's hidden fields in one call.\n",
      "\n",
      "        A field is considered hidden if it uses the\n",
      "        :class:`~wtforms.widgets.HiddenInput` widget.\n",
      "\n",
      "        If ``fields`` are given, only render the given fields that\n",
      "        are hidden.  If a string is passed, render the field with that\n",
      "        name if it exists.\n",
      "\n",
      "        .. versionchanged:: 0.13\n",
      "\n",
      "           No longer wraps inputs in hidden div.\n",
      "           This is valid HTML 5.\n",
      "\n",
      "        .. versionchanged:: 0.13\n",
      "\n",
      "           Skip passed fields that aren't hidden.\n",
      "           Skip passed names that don't exist.\n",
      "        \"\"\"\n",
      "\n",
      "        def hidden_fields(fields):\n",
      "            for f in fields:\n",
      "                if isinstance(f, str):\n",
      "                    f = getattr(self, f, None)\n",
      "\n",
      "                if f is None or not isinstance(f.widget, HiddenInput):\n",
      "                    continue\n",
      "\n",
      "                yield f\n",
      "\n",
      "        return Markup(\"\\n\".join(str(f) for f in hidden_fields(fields or self)))\n",
      "\n"
     ]
    }
   ],
   "source": [
    "print(inspect.getsource(FlaskForm))"
   ]
  },
  {
   "cell_type": "code",
   "execution_count": null,
   "id": "66777573",
   "metadata": {},
   "outputs": [],
   "source": []
  }
 ],
 "metadata": {
  "kernelspec": {
   "display_name": "Python 3 (ipykernel)",
   "language": "python",
   "name": "python3"
  },
  "language_info": {
   "codemirror_mode": {
    "name": "ipython",
    "version": 3
   },
   "file_extension": ".py",
   "mimetype": "text/x-python",
   "name": "python",
   "nbconvert_exporter": "python",
   "pygments_lexer": "ipython3",
   "version": "3.9.17"
  }
 },
 "nbformat": 4,
 "nbformat_minor": 5
}
